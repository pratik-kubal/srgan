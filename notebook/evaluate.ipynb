{
 "cells": [
  {
   "cell_type": "code",
   "execution_count": 1,
   "metadata": {},
   "outputs": [],
   "source": [
    "import os, time, pickle, random, time\n",
    "from datetime import datetime\n",
    "import numpy as np\n",
    "from time import localtime, strftime\n",
    "import logging, scipy\n",
    "import tensorflow as tf\n",
    "import tensorlayer as tl\n",
    "from model import SRGAN_g, SRGAN_d, Vgg19_simple_api\n",
    "from utils import *\n",
    "from config import config, log_config"
   ]
  },
  {
   "cell_type": "code",
   "execution_count": 2,
   "metadata": {},
   "outputs": [],
   "source": [
    "## Adam\n",
    "batch_size = config.TRAIN.batch_size\n",
    "lr_init = config.TRAIN.lr_init\n",
    "beta1 = config.TRAIN.beta1\n",
    "## initialize G\n",
    "n_epoch_init = config.TRAIN.n_epoch_init\n",
    "## adversarial learning (SRGAN)\n",
    "n_epoch = config.TRAIN.n_epoch\n",
    "lr_decay = config.TRAIN.lr_decay\n",
    "decay_every = config.TRAIN.decay_every\n",
    "ni = int(np.sqrt(batch_size))"
   ]
  },
  {
   "cell_type": "code",
   "execution_count": 3,
   "metadata": {},
   "outputs": [
    {
     "name": "stdout",
     "output_type": "stream",
     "text": [
      "[TL] [!] samples/evaluate exists ...\n",
      "[TL] read 32 from devData/LR/\n",
      "[TL] read 64 from devData/LR/\n",
      "[TL] read 96 from devData/LR/\n",
      "[TL] read 114 from devData/LR/\n",
      "[TL] read 32 from devData/HR/\n",
      "[TL] read 64 from devData/HR/\n",
      "[TL] read 96 from devData/HR/\n",
      "[TL] read 114 from devData/HR/\n"
     ]
    }
   ],
   "source": [
    "## create folders to save result images\n",
    "save_dir = \"samples/{}\".format(\"evaluate\")\n",
    "tl.files.exists_or_mkdir(save_dir)\n",
    "checkpoint_dir = \"checkpoint\"\n",
    "\n",
    "###====================== PRE-LOAD DATA ===========================###\n",
    "# train_hr_img_list = sorted(tl.files.load_file_list(path=config.TRAIN.hr_img_path, regx='.*.png', printable=False))\n",
    "# train_lr_img_list = sorted(tl.files.load_file_list(path=config.TRAIN.lr_img_path, regx='.*.png', printable=False))\n",
    "valid_hr_img_list = sorted(tl.files.load_file_list(path=config.VALID.hr_img_path, regx='.*.png', printable=False))\n",
    "valid_lr_img_list = sorted(tl.files.load_file_list(path=config.VALID.lr_img_path, regx='.*.png', printable=False))\n",
    "\n",
    "## If your machine have enough memory, please pre-load the whole train set.\n",
    "# train_hr_imgs = tl.vis.read_images(train_hr_img_list, path=config.TRAIN.hr_img_path, n_threads=32)\n",
    "# for im in train_hr_imgs:\n",
    "#     print(im.shape)\n",
    "valid_lr_imgs = tl.vis.read_images(valid_lr_img_list, path=config.VALID.lr_img_path, n_threads=32)\n",
    "# for im in valid_lr_imgs:\n",
    "#     print(im.shape)\n",
    "valid_hr_imgs = tl.vis.read_images(valid_hr_img_list, path=config.VALID.hr_img_path, n_threads=32)\n",
    "# for im in valid_hr_imgs:\n",
    "#     print(im.shape)\n",
    "# exit()"
   ]
  },
  {
   "cell_type": "code",
   "execution_count": 4,
   "metadata": {},
   "outputs": [
    {
     "name": "stdout",
     "output_type": "stream",
     "text": [
      "[TL] InputLayer  SRGAN_g/in: (1, ?, ?, 3)\n",
      "[TL] Conv2d SRGAN_g/n64s1/c: n_filter: 64 filter_size: (3, 3) strides: (1, 1) pad: SAME act: relu\n",
      "WARNING:tensorflow:From /home/ubuntu/anaconda3/envs/srgan/lib/python3.7/site-packages/tensorflow/python/framework/op_def_library.py:263: colocate_with (from tensorflow.python.framework.ops) is deprecated and will be removed in a future version.\n",
      "Instructions for updating:\n",
      "Colocations handled automatically by placer.\n",
      "[TL] Conv2d SRGAN_g/n64s1/c1/0: n_filter: 64 filter_size: (3, 3) strides: (1, 1) pad: SAME act: No Activation\n",
      "[TL] BatchNormLayer SRGAN_g/n64s1/b1/0: decay: 0.900000 epsilon: 0.000010 act: relu is_train: False\n",
      "[TL] Conv2d SRGAN_g/n64s1/c2/0: n_filter: 64 filter_size: (3, 3) strides: (1, 1) pad: SAME act: No Activation\n",
      "[TL] BatchNormLayer SRGAN_g/n64s1/b2/0: decay: 0.900000 epsilon: 0.000010 act: No Activation is_train: False\n",
      "[TL] ElementwiseLayer SRGAN_g/b_residual_add/0: size: (1, ?, ?, 64) fn: add\n",
      "[TL] Conv2d SRGAN_g/n64s1/c1/1: n_filter: 64 filter_size: (3, 3) strides: (1, 1) pad: SAME act: No Activation\n",
      "[TL] BatchNormLayer SRGAN_g/n64s1/b1/1: decay: 0.900000 epsilon: 0.000010 act: relu is_train: False\n",
      "[TL] Conv2d SRGAN_g/n64s1/c2/1: n_filter: 64 filter_size: (3, 3) strides: (1, 1) pad: SAME act: No Activation\n",
      "[TL] BatchNormLayer SRGAN_g/n64s1/b2/1: decay: 0.900000 epsilon: 0.000010 act: No Activation is_train: False\n",
      "[TL] ElementwiseLayer SRGAN_g/b_residual_add/1: size: (1, ?, ?, 64) fn: add\n",
      "[TL] Conv2d SRGAN_g/n64s1/c1/2: n_filter: 64 filter_size: (3, 3) strides: (1, 1) pad: SAME act: No Activation\n",
      "[TL] BatchNormLayer SRGAN_g/n64s1/b1/2: decay: 0.900000 epsilon: 0.000010 act: relu is_train: False\n",
      "[TL] Conv2d SRGAN_g/n64s1/c2/2: n_filter: 64 filter_size: (3, 3) strides: (1, 1) pad: SAME act: No Activation\n",
      "[TL] BatchNormLayer SRGAN_g/n64s1/b2/2: decay: 0.900000 epsilon: 0.000010 act: No Activation is_train: False\n",
      "[TL] ElementwiseLayer SRGAN_g/b_residual_add/2: size: (1, ?, ?, 64) fn: add\n",
      "[TL] Conv2d SRGAN_g/n64s1/c1/3: n_filter: 64 filter_size: (3, 3) strides: (1, 1) pad: SAME act: No Activation\n",
      "[TL] BatchNormLayer SRGAN_g/n64s1/b1/3: decay: 0.900000 epsilon: 0.000010 act: relu is_train: False\n",
      "[TL] Conv2d SRGAN_g/n64s1/c2/3: n_filter: 64 filter_size: (3, 3) strides: (1, 1) pad: SAME act: No Activation\n",
      "[TL] BatchNormLayer SRGAN_g/n64s1/b2/3: decay: 0.900000 epsilon: 0.000010 act: No Activation is_train: False\n",
      "[TL] ElementwiseLayer SRGAN_g/b_residual_add/3: size: (1, ?, ?, 64) fn: add\n",
      "[TL] Conv2d SRGAN_g/n64s1/c1/4: n_filter: 64 filter_size: (3, 3) strides: (1, 1) pad: SAME act: No Activation\n",
      "[TL] BatchNormLayer SRGAN_g/n64s1/b1/4: decay: 0.900000 epsilon: 0.000010 act: relu is_train: False\n",
      "[TL] Conv2d SRGAN_g/n64s1/c2/4: n_filter: 64 filter_size: (3, 3) strides: (1, 1) pad: SAME act: No Activation\n",
      "[TL] BatchNormLayer SRGAN_g/n64s1/b2/4: decay: 0.900000 epsilon: 0.000010 act: No Activation is_train: False\n",
      "[TL] ElementwiseLayer SRGAN_g/b_residual_add/4: size: (1, ?, ?, 64) fn: add\n",
      "[TL] Conv2d SRGAN_g/n64s1/c1/5: n_filter: 64 filter_size: (3, 3) strides: (1, 1) pad: SAME act: No Activation\n",
      "[TL] BatchNormLayer SRGAN_g/n64s1/b1/5: decay: 0.900000 epsilon: 0.000010 act: relu is_train: False\n",
      "[TL] Conv2d SRGAN_g/n64s1/c2/5: n_filter: 64 filter_size: (3, 3) strides: (1, 1) pad: SAME act: No Activation\n",
      "[TL] BatchNormLayer SRGAN_g/n64s1/b2/5: decay: 0.900000 epsilon: 0.000010 act: No Activation is_train: False\n",
      "[TL] ElementwiseLayer SRGAN_g/b_residual_add/5: size: (1, ?, ?, 64) fn: add\n",
      "[TL] Conv2d SRGAN_g/n64s1/c1/6: n_filter: 64 filter_size: (3, 3) strides: (1, 1) pad: SAME act: No Activation\n",
      "[TL] BatchNormLayer SRGAN_g/n64s1/b1/6: decay: 0.900000 epsilon: 0.000010 act: relu is_train: False\n",
      "[TL] Conv2d SRGAN_g/n64s1/c2/6: n_filter: 64 filter_size: (3, 3) strides: (1, 1) pad: SAME act: No Activation\n",
      "[TL] BatchNormLayer SRGAN_g/n64s1/b2/6: decay: 0.900000 epsilon: 0.000010 act: No Activation is_train: False\n",
      "[TL] ElementwiseLayer SRGAN_g/b_residual_add/6: size: (1, ?, ?, 64) fn: add\n",
      "[TL] Conv2d SRGAN_g/n64s1/c1/7: n_filter: 64 filter_size: (3, 3) strides: (1, 1) pad: SAME act: No Activation\n",
      "[TL] BatchNormLayer SRGAN_g/n64s1/b1/7: decay: 0.900000 epsilon: 0.000010 act: relu is_train: False\n",
      "[TL] Conv2d SRGAN_g/n64s1/c2/7: n_filter: 64 filter_size: (3, 3) strides: (1, 1) pad: SAME act: No Activation\n",
      "[TL] BatchNormLayer SRGAN_g/n64s1/b2/7: decay: 0.900000 epsilon: 0.000010 act: No Activation is_train: False\n",
      "[TL] ElementwiseLayer SRGAN_g/b_residual_add/7: size: (1, ?, ?, 64) fn: add\n",
      "[TL] Conv2d SRGAN_g/n64s1/c1/8: n_filter: 64 filter_size: (3, 3) strides: (1, 1) pad: SAME act: No Activation\n",
      "[TL] BatchNormLayer SRGAN_g/n64s1/b1/8: decay: 0.900000 epsilon: 0.000010 act: relu is_train: False\n",
      "[TL] Conv2d SRGAN_g/n64s1/c2/8: n_filter: 64 filter_size: (3, 3) strides: (1, 1) pad: SAME act: No Activation\n",
      "[TL] BatchNormLayer SRGAN_g/n64s1/b2/8: decay: 0.900000 epsilon: 0.000010 act: No Activation is_train: False\n",
      "[TL] ElementwiseLayer SRGAN_g/b_residual_add/8: size: (1, ?, ?, 64) fn: add\n",
      "[TL] Conv2d SRGAN_g/n64s1/c1/9: n_filter: 64 filter_size: (3, 3) strides: (1, 1) pad: SAME act: No Activation\n",
      "[TL] BatchNormLayer SRGAN_g/n64s1/b1/9: decay: 0.900000 epsilon: 0.000010 act: relu is_train: False\n",
      "[TL] Conv2d SRGAN_g/n64s1/c2/9: n_filter: 64 filter_size: (3, 3) strides: (1, 1) pad: SAME act: No Activation\n",
      "[TL] BatchNormLayer SRGAN_g/n64s1/b2/9: decay: 0.900000 epsilon: 0.000010 act: No Activation is_train: False\n",
      "[TL] ElementwiseLayer SRGAN_g/b_residual_add/9: size: (1, ?, ?, 64) fn: add\n",
      "[TL] Conv2d SRGAN_g/n64s1/c1/10: n_filter: 64 filter_size: (3, 3) strides: (1, 1) pad: SAME act: No Activation\n",
      "[TL] BatchNormLayer SRGAN_g/n64s1/b1/10: decay: 0.900000 epsilon: 0.000010 act: relu is_train: False\n",
      "[TL] Conv2d SRGAN_g/n64s1/c2/10: n_filter: 64 filter_size: (3, 3) strides: (1, 1) pad: SAME act: No Activation\n",
      "[TL] BatchNormLayer SRGAN_g/n64s1/b2/10: decay: 0.900000 epsilon: 0.000010 act: No Activation is_train: False\n",
      "[TL] ElementwiseLayer SRGAN_g/b_residual_add/10: size: (1, ?, ?, 64) fn: add\n",
      "[TL] Conv2d SRGAN_g/n64s1/c1/11: n_filter: 64 filter_size: (3, 3) strides: (1, 1) pad: SAME act: No Activation\n",
      "[TL] BatchNormLayer SRGAN_g/n64s1/b1/11: decay: 0.900000 epsilon: 0.000010 act: relu is_train: False\n",
      "[TL] Conv2d SRGAN_g/n64s1/c2/11: n_filter: 64 filter_size: (3, 3) strides: (1, 1) pad: SAME act: No Activation\n",
      "[TL] BatchNormLayer SRGAN_g/n64s1/b2/11: decay: 0.900000 epsilon: 0.000010 act: No Activation is_train: False\n",
      "[TL] ElementwiseLayer SRGAN_g/b_residual_add/11: size: (1, ?, ?, 64) fn: add\n",
      "[TL] Conv2d SRGAN_g/n64s1/c1/12: n_filter: 64 filter_size: (3, 3) strides: (1, 1) pad: SAME act: No Activation\n",
      "[TL] BatchNormLayer SRGAN_g/n64s1/b1/12: decay: 0.900000 epsilon: 0.000010 act: relu is_train: False\n",
      "[TL] Conv2d SRGAN_g/n64s1/c2/12: n_filter: 64 filter_size: (3, 3) strides: (1, 1) pad: SAME act: No Activation\n",
      "[TL] BatchNormLayer SRGAN_g/n64s1/b2/12: decay: 0.900000 epsilon: 0.000010 act: No Activation is_train: False\n",
      "[TL] ElementwiseLayer SRGAN_g/b_residual_add/12: size: (1, ?, ?, 64) fn: add\n",
      "[TL] Conv2d SRGAN_g/n64s1/c1/13: n_filter: 64 filter_size: (3, 3) strides: (1, 1) pad: SAME act: No Activation\n",
      "[TL] BatchNormLayer SRGAN_g/n64s1/b1/13: decay: 0.900000 epsilon: 0.000010 act: relu is_train: False\n",
      "[TL] Conv2d SRGAN_g/n64s1/c2/13: n_filter: 64 filter_size: (3, 3) strides: (1, 1) pad: SAME act: No Activation\n",
      "[TL] BatchNormLayer SRGAN_g/n64s1/b2/13: decay: 0.900000 epsilon: 0.000010 act: No Activation is_train: False\n",
      "[TL] ElementwiseLayer SRGAN_g/b_residual_add/13: size: (1, ?, ?, 64) fn: add\n",
      "[TL] Conv2d SRGAN_g/n64s1/c1/14: n_filter: 64 filter_size: (3, 3) strides: (1, 1) pad: SAME act: No Activation\n",
      "[TL] BatchNormLayer SRGAN_g/n64s1/b1/14: decay: 0.900000 epsilon: 0.000010 act: relu is_train: False\n",
      "[TL] Conv2d SRGAN_g/n64s1/c2/14: n_filter: 64 filter_size: (3, 3) strides: (1, 1) pad: SAME act: No Activation\n",
      "[TL] BatchNormLayer SRGAN_g/n64s1/b2/14: decay: 0.900000 epsilon: 0.000010 act: No Activation is_train: False\n",
      "[TL] ElementwiseLayer SRGAN_g/b_residual_add/14: size: (1, ?, ?, 64) fn: add\n",
      "[TL] Conv2d SRGAN_g/n64s1/c1/15: n_filter: 64 filter_size: (3, 3) strides: (1, 1) pad: SAME act: No Activation\n",
      "[TL] BatchNormLayer SRGAN_g/n64s1/b1/15: decay: 0.900000 epsilon: 0.000010 act: relu is_train: False\n"
     ]
    },
    {
     "name": "stdout",
     "output_type": "stream",
     "text": [
      "[TL] Conv2d SRGAN_g/n64s1/c2/15: n_filter: 64 filter_size: (3, 3) strides: (1, 1) pad: SAME act: No Activation\n",
      "[TL] BatchNormLayer SRGAN_g/n64s1/b2/15: decay: 0.900000 epsilon: 0.000010 act: No Activation is_train: False\n",
      "[TL] ElementwiseLayer SRGAN_g/b_residual_add/15: size: (1, ?, ?, 64) fn: add\n",
      "[TL] Conv2d SRGAN_g/n64s1/c/m: n_filter: 64 filter_size: (3, 3) strides: (1, 1) pad: SAME act: No Activation\n",
      "[TL] BatchNormLayer SRGAN_g/n64s1/b/m: decay: 0.900000 epsilon: 0.000010 act: No Activation is_train: False\n",
      "[TL] ElementwiseLayer SRGAN_g/add3: size: (1, ?, ?, 64) fn: add\n",
      "[TL] Conv2d SRGAN_g/n256s1/1: n_filter: 256 filter_size: (3, 3) strides: (1, 1) pad: SAME act: No Activation\n",
      "[TL] SubpixelConv2d  SRGAN_g/pixelshufflerx2/1: scale: 2 n_out_channel: 64 act: relu\n",
      "[TL] Conv2d SRGAN_g/n256s1/2: n_filter: 256 filter_size: (3, 3) strides: (1, 1) pad: SAME act: No Activation\n",
      "[TL] SubpixelConv2d  SRGAN_g/pixelshufflerx2/2: scale: 2 n_out_channel: 64 act: relu\n",
      "[TL] Conv2d SRGAN_g/out: n_filter: 3 filter_size: (1, 1) strides: (1, 1) pad: SAME act: tanh\n"
     ]
    }
   ],
   "source": [
    "imid = 64  # 0: 企鹅  81: 蝴蝶 53: 鸟  64: 古堡\n",
    "valid_lr_img = valid_lr_imgs[imid]\n",
    "valid_hr_img = valid_hr_imgs[imid]\n",
    "# valid_lr_img = get_imgs_fn('test.png', 'data2017/')  # if you want to test your own image\n",
    "valid_lr_img = (valid_lr_img / 127.5) - 1  # rescale to ［－1, 1]\n",
    "# print(valid_lr_img.min(), valid_lr_img.max())\n",
    "\n",
    "size = valid_lr_img.shape\n",
    "# t_image = tf.placeholder('float32', [None, size[0], size[1], size[2]], name='input_image') # the old version of TL need to specify the image size\n",
    "t_image = tf.placeholder('float32', [1, None, None, 3], name='input_image')\n",
    "\n",
    "net_g = SRGAN_g(t_image, is_train=False, reuse=False)"
   ]
  },
  {
   "cell_type": "code",
   "execution_count": 13,
   "metadata": {},
   "outputs": [
    {
     "name": "stdout",
     "output_type": "stream",
     "text": [
      "[TL] [*] Load ../checkpoint/g_srgan.npz SUCCESS!\n"
     ]
    },
    {
     "name": "stderr",
     "output_type": "stream",
     "text": [
      "INFO:tensorlayer:[*] Load ../checkpoint/g_srgan.npz SUCCESS!\n"
     ]
    },
    {
     "data": {
      "text/plain": [
       "<tensorlayer.layers.convolution.simplified_conv.Conv2d at 0x7f4b7b079da0>"
      ]
     },
     "execution_count": 13,
     "metadata": {},
     "output_type": "execute_result"
    }
   ],
   "source": [
    "sess = tf.Session(config=tf.ConfigProto(allow_soft_placement=True, log_device_placement=False))\n",
    "tl.layers.initialize_global_variables(sess)\n",
    "tl.files.load_and_assign_npz(sess=sess, name=checkpoint_dir + '/g_train.npz', network=net_g)"
   ]
  },
  {
   "cell_type": "code",
   "execution_count": 14,
   "metadata": {},
   "outputs": [
    {
     "name": "stderr",
     "output_type": "stream",
     "text": [
      "WARNING:root:Lossy conversion from float32 to uint8. Range [-0.9475070238113403, 0.9837345480918884]. Convert image to uint8 prior to saving to suppress this warning.\n",
      "WARNING:root:Lossy conversion from float64 to uint8. Range [-0.9372549019607843, 1.0]. Convert image to uint8 prior to saving to suppress this warning.\n"
     ]
    },
    {
     "name": "stdout",
     "output_type": "stream",
     "text": [
      "took: 0.2780s\n",
      "LR size: (120, 80, 3) /  generated HR size: (1, 480, 320, 3)\n",
      "[*] save images\n"
     ]
    },
    {
     "name": "stderr",
     "output_type": "stream",
     "text": [
      "/home/ubuntu/anaconda3/envs/srgan/lib/python3.7/site-packages/ipykernel_launcher.py:11: DeprecationWarning: `imresize` is deprecated!\n",
      "`imresize` is deprecated in SciPy 1.0.0, and will be removed in 1.2.0.\n",
      "Use ``skimage.transform.resize`` instead.\n",
      "  # This is added back by InteractiveShellApp.init_path()\n"
     ]
    }
   ],
   "source": [
    "start_time = time.time()\n",
    "out = sess.run(net_g.outputs, {t_image: [valid_lr_img]})\n",
    "print(\"took: %4.4fs\" % (time.time() - start_time))\n",
    "\n",
    "print(\"LR size: %s /  generated HR size: %s\" % (size, out.shape))  # LR size: (339, 510, 3) /  gen HR size: (1, 1356, 2040, 3)\n",
    "print(\"[*] save images\")\n",
    "tl.vis.save_image(out[0], save_dir + '/valid_gen.png')\n",
    "tl.vis.save_image(valid_lr_img, save_dir + '/valid_lr.png')\n",
    "tl.vis.save_image(valid_hr_img, save_dir + '/valid_hr.png')\n",
    "\n",
    "out_bicu = scipy.misc.imresize(valid_lr_img, [size[0] * 4, size[1] * 4], interp='bicubic', mode=None)\n",
    "tl.vis.save_image(out_bicu, save_dir + '/valid_bicubic.png')"
   ]
  },
  {
   "cell_type": "code",
   "execution_count": null,
   "metadata": {},
   "outputs": [],
   "source": []
  }
 ],
 "metadata": {
  "kernelspec": {
   "display_name": "Python 3",
   "language": "python",
   "name": "python3"
  },
  "language_info": {
   "codemirror_mode": {
    "name": "ipython",
    "version": 3
   },
   "file_extension": ".py",
   "mimetype": "text/x-python",
   "name": "python",
   "nbconvert_exporter": "python",
   "pygments_lexer": "ipython3",
   "version": "3.7.3"
  }
 },
 "nbformat": 4,
 "nbformat_minor": 2
}
