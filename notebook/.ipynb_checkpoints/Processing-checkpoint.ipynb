{
 "cells": [
  {
   "cell_type": "code",
   "execution_count": 69,
   "metadata": {},
   "outputs": [],
   "source": [
    "import os\n",
    "import numpy as np\n",
    "import shutil\n",
    "from random import shuffle"
   ]
  },
  {
   "cell_type": "code",
   "execution_count": 59,
   "metadata": {},
   "outputs": [],
   "source": [
    "HRpath='../Flickr2K/Flickr2K_HR'"
   ]
  },
  {
   "cell_type": "code",
   "execution_count": 60,
   "metadata": {},
   "outputs": [],
   "source": [
    "files=[]\n",
    "flickrHighRes = [f for f in sorted(os.listdir(HRpath))]"
   ]
  },
  {
   "cell_type": "code",
   "execution_count": 61,
   "metadata": {},
   "outputs": [
    {
     "data": {
      "text/plain": [
       "['000001.png',\n",
       " '000002.png',\n",
       " '000003.png',\n",
       " '000004.png',\n",
       " '000005.png',\n",
       " '000006.png',\n",
       " '000007.png',\n",
       " '000008.png',\n",
       " '000009.png',\n",
       " '000010.png']"
      ]
     },
     "execution_count": 61,
     "metadata": {},
     "output_type": "execute_result"
    }
   ],
   "source": [
    "flickrHighRes[0:10]"
   ]
  },
  {
   "cell_type": "code",
   "execution_count": 62,
   "metadata": {},
   "outputs": [],
   "source": [
    "shuffle(flickrHighRes)"
   ]
  },
  {
   "cell_type": "code",
   "execution_count": 63,
   "metadata": {},
   "outputs": [],
   "source": [
    "train = flickrHighRes[0:int(len(flickrHighRes)*0.8)]\n",
    "temp = flickrHighRes[int(len(flickrHighRes)*0.8):]\n",
    "dev = temp[0:int(len(temp)*0.5)]\n",
    "test = temp[int(len(temp)*0.5):]"
   ]
  },
  {
   "cell_type": "code",
   "execution_count": 64,
   "metadata": {},
   "outputs": [],
   "source": [
    "trainHR=[]\n",
    "trainLR=[]\n",
    "for idx in range(len(train)):\n",
    "    trainHR.append(train[idx])\n",
    "    trainLR.append(train[idx][0:-4]+\"x4\"+train[idx][-4:])"
   ]
  },
  {
   "cell_type": "code",
   "execution_count": 65,
   "metadata": {},
   "outputs": [],
   "source": [
    "devHR=[]\n",
    "devLR=[]\n",
    "for idx in range(len(dev)):\n",
    "    devHR.append(dev[idx])\n",
    "    devLR.append(dev[idx][0:-4]+\"x4\"+dev[idx][-4:])"
   ]
  },
  {
   "cell_type": "code",
   "execution_count": 66,
   "metadata": {},
   "outputs": [],
   "source": [
    "testHR=[]\n",
    "testLR=[]\n",
    "for idx in range(len(test)):\n",
    "    testHR.append(test[idx])\n",
    "    testLR.append(test[idx][0:-4]+\"x4\"+test[idx][-4:])"
   ]
  },
  {
   "cell_type": "code",
   "execution_count": 73,
   "metadata": {},
   "outputs": [],
   "source": [
    "sourcePath = \"../Flickr2K/Flickr2K_HR/\"\n",
    "destinationPath = \"../mainDataset/dev/Flickr/HR/\"\n",
    "'''for file in devHR:\n",
    "    shutil.move(sourcePath+file,destinationPath+file)'''"
   ]
  },
  {
   "cell_type": "code",
   "execution_count": 76,
   "metadata": {},
   "outputs": [],
   "source": [
    "'''destinationPath = \"../mainDataset/train/Flickr/HR/\"\n",
    "for file in trainHR:\n",
    "    shutil.move(sourcePath+file,destinationPath+file)'''"
   ]
  },
  {
   "cell_type": "code",
   "execution_count": 77,
   "metadata": {},
   "outputs": [],
   "source": [
    "'''destinationPath = \"../mainDataset/test/Flickr/HR/\"\n",
    "for file in testHR:\n",
    "    shutil.move(sourcePath+file,destinationPath+file)'''"
   ]
  },
  {
   "cell_type": "code",
   "execution_count": 78,
   "metadata": {},
   "outputs": [],
   "source": [
    "'''sourcePath = \"../Flickr2K/Flickr2K_LR_bicubic/\"\n",
    "destinationPath = \"../mainDataset/train/Flickr/LR_bicubic/\"\n",
    "for file in trainLR:\n",
    "    shutil.move(sourcePath+file,destinationPath+file)'''"
   ]
  },
  {
   "cell_type": "code",
   "execution_count": 79,
   "metadata": {},
   "outputs": [],
   "source": [
    "'''destinationPath = \"../mainDataset/test/Flickr/LR_bicubic/\"\n",
    "for file in testLR:\n",
    "    shutil.move(sourcePath+file,destinationPath+file)'''"
   ]
  },
  {
   "cell_type": "code",
   "execution_count": 80,
   "metadata": {},
   "outputs": [],
   "source": [
    "'''destinationPath = \"../mainDataset/dev/Flickr/LR_bicubic/\"\n",
    "for file in devLR:\n",
    "    shutil.move(sourcePath+file,destinationPath+file)'''"
   ]
  },
  {
   "cell_type": "code",
   "execution_count": null,
   "metadata": {},
   "outputs": [],
   "source": []
  }
 ],
 "metadata": {
  "kernelspec": {
   "display_name": "Python 3",
   "language": "python",
   "name": "python3"
  },
  "language_info": {
   "codemirror_mode": {
    "name": "ipython",
    "version": 3
   },
   "file_extension": ".py",
   "mimetype": "text/x-python",
   "name": "python",
   "nbconvert_exporter": "python",
   "pygments_lexer": "ipython3",
   "version": "3.7.3"
  }
 },
 "nbformat": 4,
 "nbformat_minor": 2
}
